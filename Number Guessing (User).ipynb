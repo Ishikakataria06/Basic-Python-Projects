{
 "cells": [
  {
   "cell_type": "markdown",
   "id": "83a278c2-8282-4594-95a2-ae604056e2ce",
   "metadata": {},
   "source": [
    "### This code sets up a simple guessing game where the player needs to guess a random number between 1 and 100. \n",
    "### It will provide feedback if the guess is too high or too low and will keep track of the number of guesses until the correct number is guessed."
   ]
  },
  {
   "cell_type": "code",
   "execution_count": 5,
   "id": "1857c6c8-dd41-415b-b846-e78aacc3b8b3",
   "metadata": {},
   "outputs": [],
   "source": [
    "import random "
   ]
  },
  {
   "cell_type": "code",
   "execution_count": 11,
   "id": "efb58ae6-0a8e-4a25-b518-c9e0ffcb2c90",
   "metadata": {},
   "outputs": [
    {
     "name": "stdout",
     "output_type": "stream",
     "text": [
      "Welcome to the Guessing Number Game!\n",
      "I'm thinking of a number between 1 and 100. Can you guess it?\n"
     ]
    },
    {
     "name": "stdin",
     "output_type": "stream",
     "text": [
      "Enter your guess:  45\n"
     ]
    },
    {
     "name": "stdout",
     "output_type": "stream",
     "text": [
      "Too high! Try guessing a lower number.\n"
     ]
    },
    {
     "name": "stdin",
     "output_type": "stream",
     "text": [
      "Enter your guess:  35\n"
     ]
    },
    {
     "name": "stdout",
     "output_type": "stream",
     "text": [
      "Too low! Try guessing a higher number.\n"
     ]
    },
    {
     "name": "stdin",
     "output_type": "stream",
     "text": [
      "Enter your guess:  40\n"
     ]
    },
    {
     "name": "stdout",
     "output_type": "stream",
     "text": [
      "Too high! Try guessing a lower number.\n"
     ]
    },
    {
     "name": "stdin",
     "output_type": "stream",
     "text": [
      "Enter your guess:  39\n"
     ]
    },
    {
     "name": "stdout",
     "output_type": "stream",
     "text": [
      "Too high! Try guessing a lower number.\n"
     ]
    },
    {
     "name": "stdin",
     "output_type": "stream",
     "text": [
      "Enter your guess:  36\n"
     ]
    },
    {
     "name": "stdout",
     "output_type": "stream",
     "text": [
      "Too low! Try guessing a higher number.\n"
     ]
    },
    {
     "name": "stdin",
     "output_type": "stream",
     "text": [
      "Enter your guess:  37\n"
     ]
    },
    {
     "name": "stdout",
     "output_type": "stream",
     "text": [
      "Too low! Try guessing a higher number.\n"
     ]
    },
    {
     "name": "stdin",
     "output_type": "stream",
     "text": [
      "Enter your guess:  38\n"
     ]
    },
    {
     "name": "stdout",
     "output_type": "stream",
     "text": [
      "Congratulations! You guessed the number in 7 guesses!\n"
     ]
    }
   ],
   "source": [
    "# Craete a function \n",
    "def guess_number():\n",
    "    # Generate a random number between 1 and 100\n",
    "    secret_number = random.randint(1, 100)\n",
    "    \n",
    "    # Initialize the number of guesses\n",
    "    num_guesses = 0\n",
    "    \n",
    "    print(\"Welcome to the Guessing Number Game!\")\n",
    "    print(\"I'm thinking of a number between 1 and 100. Can you guess it?\")\n",
    "    \n",
    "    while True:\n",
    "        # Get the player's guess\n",
    "        guess = int(input(\"Enter your guess: \"))\n",
    "        \n",
    "        # Increment the number of guesses\n",
    "        num_guesses += 1\n",
    "        \n",
    "        # Check if the guess is correct\n",
    "        if guess == secret_number:\n",
    "            print(f\"Congratulations! You guessed the number in {num_guesses} guesses!\")\n",
    "            break\n",
    "        elif guess < secret_number:\n",
    "            print(\"Too low! Try guessing a higher number.\")\n",
    "        else:\n",
    "            print(\"Too high! Try guessing a lower number.\")\n",
    "\n",
    "# Call the function to start the game\n",
    "guess_number()"
   ]
  }
 ],
 "metadata": {
  "kernelspec": {
   "display_name": "Python 3 (ipykernel)",
   "language": "python",
   "name": "python3"
  },
  "language_info": {
   "codemirror_mode": {
    "name": "ipython",
    "version": 3
   },
   "file_extension": ".py",
   "mimetype": "text/x-python",
   "name": "python",
   "nbconvert_exporter": "python",
   "pygments_lexer": "ipython3",
   "version": "3.12.0"
  }
 },
 "nbformat": 4,
 "nbformat_minor": 5
}
