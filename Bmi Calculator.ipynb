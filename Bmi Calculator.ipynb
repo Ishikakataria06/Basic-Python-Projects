{
 "cells": [
  {
   "cell_type": "code",
   "execution_count": 1,
   "id": "8af74ae3-5493-4fc3-acb7-b7b42424f901",
   "metadata": {},
   "outputs": [
    {
     "name": "stdout",
     "output_type": "stream",
     "text": [
      "Welcome to bmi calculator\n"
     ]
    },
    {
     "name": "stdin",
     "output_type": "stream",
     "text": [
      "Enter your weight in kilograms: 65\n",
      "Enter your height in meters 1.4986\n"
     ]
    },
    {
     "name": "stdout",
     "output_type": "stream",
     "text": [
      "Your bmi is: 28.942890405171795\n",
      "You are overweight\n"
     ]
    }
   ],
   "source": [
    "# define a function to calculate bmi\n",
    "\n",
    "def calculate_bmi(weight,height):\n",
    "    bmi = weight/height**2\n",
    "    return bmi \n",
    "\n",
    "# define a function to get the bmi category you fall into \n",
    "\n",
    "def category_bmi(bmi):\n",
    "    if bmi <= 16:\n",
    "        return \"You are severely underweight\"\n",
    "    elif bmi <=18.5:\n",
    "        return \"You are underweight\"\n",
    "    elif bmi <=25:\n",
    "        return \"You are healthy\"\n",
    "    elif bmi <= 30:\n",
    "        return \"You are overweight\"\n",
    "    else:\n",
    "        return \"You are severely underweight\"\n",
    "\n",
    "\n",
    "# The 'main()' function prompts the user to enter their weight and height,\n",
    "# calculates their BMI using the 'calculate_bmi' function, and then\n",
    "# determines the BMI category using the 'category_bmi' function.\n",
    "\n",
    "def main():\n",
    "    print(\"Welcome to bmi calculator\")\n",
    "    weight = float(input(\"Enter your weight in kilograms:\"))\n",
    "    height = float(input(\"Enter your height in meters\"))\n",
    "\n",
    "    bmi = calculate_bmi(weight,height)\n",
    "    if bmi:\n",
    "        print(\"Your bmi is:\",bmi)\n",
    "        category = category_bmi(bmi)\n",
    "        print(category)\n",
    "\n",
    "# The following block of code ensures that the 'main()' function\n",
    "# is executed only if this script is run directly, and not when\n",
    "# it is imported as a module into another script.\n",
    "\n",
    "if __name__ == \"__main__\":\n",
    "    main()"
   ]
  }
 ],
 "metadata": {
  "kernelspec": {
   "display_name": "Python 3 (ipykernel)",
   "language": "python",
   "name": "python3"
  },
  "language_info": {
   "codemirror_mode": {
    "name": "ipython",
    "version": 3
   },
   "file_extension": ".py",
   "mimetype": "text/x-python",
   "name": "python",
   "nbconvert_exporter": "python",
   "pygments_lexer": "ipython3",
   "version": "3.12.0"
  }
 },
 "nbformat": 4,
 "nbformat_minor": 5
}
