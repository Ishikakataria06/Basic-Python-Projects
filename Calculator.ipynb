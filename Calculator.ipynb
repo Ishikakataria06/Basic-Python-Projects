{
 "cells": [
  {
   "cell_type": "markdown",
   "id": "e57f7cb0-2d82-474d-8376-351a9f70d63e",
   "metadata": {},
   "source": [
    "# Calculator python project "
   ]
  },
  {
   "cell_type": "markdown",
   "id": "f11c7fae-edaa-423d-81ec-7713efa84971",
   "metadata": {},
   "source": [
    "### calculating addition, subtraction, multiplication and division of two numbers using calculator python program "
   ]
  },
  {
   "cell_type": "code",
   "execution_count": 1,
   "id": "e77cd3ec-2f65-412a-ab18-682d86a461b5",
   "metadata": {},
   "outputs": [
    {
     "name": "stdout",
     "output_type": "stream",
     "text": [
      "Options\n",
      "Enter 'add' for addition\n",
      "Enter 'sub' for subtraction\n",
      "Enter 'multiply' for multiplication\n",
      "Enter 'division' for divison\n",
      "Enter 'exit' to exit\n"
     ]
    },
    {
     "name": "stdin",
     "output_type": "stream",
     "text": [
      "Enter your Option add\n",
      "Enter 1st number: 12\n",
      "Enter 2nd number: 45678\n"
     ]
    },
    {
     "name": "stdout",
     "output_type": "stream",
     "text": [
      "Result 45690.0\n",
      "Options\n",
      "Enter 'add' for addition\n",
      "Enter 'sub' for subtraction\n",
      "Enter 'multiply' for multiplication\n",
      "Enter 'division' for divison\n",
      "Enter 'exit' to exit\n"
     ]
    },
    {
     "name": "stdin",
     "output_type": "stream",
     "text": [
      "Enter your Option exit\n"
     ]
    }
   ],
   "source": [
    "# create functions for add, sub, multiply and div \n",
    "def add(y,x):\n",
    "    return x+y \n",
    "\n",
    "def sub(x,y):\n",
    "    return x-y \n",
    "\n",
    "def multiply(x,y):\n",
    "    return x*y \n",
    "\n",
    "def div(x,y):\n",
    "    if y == 0:\n",
    "        return \"cannot divide by zero\"\n",
    "    return x/y\n",
    "\n",
    "\n",
    "while True:\n",
    "    print(\"Options\")\n",
    "    print(\"Enter 'add' for addition\")\n",
    "    print(\"Enter 'sub' for subtraction\")\n",
    "    print(\"Enter 'multiply' for multiplication\")\n",
    "    print(\"Enter 'division' for divison\")\n",
    "    print(\"Enter 'exit' to exit\")\n",
    "\n",
    "    user_input = input(\"Enter your Option\")\n",
    "\n",
    "    if user_input == 'exit':\n",
    "        break \n",
    "\n",
    "    if user_input in ('add','sub','multiply','div'):\n",
    "        num_1 = float(input(\"Enter 1st number:\"))\n",
    "        num_2 = float(input(\"Enter 2nd number:\"))\n",
    "\n",
    "        if user_input == 'add':\n",
    "            print(\"Result\",add(num_1,num_2))\n",
    "        elif user_input == 'sub':\n",
    "            print(\"Result\",sub(num_1,num_2))\n",
    "        elif user_input == 'multiply':\n",
    "            print(\"Result\",multiply(num_1,num_2))\n",
    "        elif user_input == 'div':\n",
    "            print(\"Result\",div(num_1,num_2))\n",
    "\n",
    "    else:\n",
    "        print(\"Invalid Input\")"
   ]
  }
 ],
 "metadata": {
  "kernelspec": {
   "display_name": "Python 3 (ipykernel)",
   "language": "python",
   "name": "python3"
  },
  "language_info": {
   "codemirror_mode": {
    "name": "ipython",
    "version": 3
   },
   "file_extension": ".py",
   "mimetype": "text/x-python",
   "name": "python",
   "nbconvert_exporter": "python",
   "pygments_lexer": "ipython3",
   "version": "3.12.0"
  }
 },
 "nbformat": 4,
 "nbformat_minor": 5
}
