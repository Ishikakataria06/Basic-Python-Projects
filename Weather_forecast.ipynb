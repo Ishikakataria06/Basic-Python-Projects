{
 "cells": [
  {
   "cell_type": "code",
   "execution_count": null,
   "id": "00a63ddf-c7b0-4925-a0eb-33ef72ac0f87",
   "metadata": {},
   "outputs": [
    {
     "name": "stdin",
     "output_type": "stream",
     "text": [
      "Enter the city name: gurgaon\n"
     ]
    },
    {
     "name": "stdout",
     "output_type": "stream",
     "text": [
      "Welcome to the Weather App\n",
      "Temperature: 26.02000000000004 °C\n",
      "Description: haze\n",
      "Minimun Temperature: 26.02000000000004 °C\n",
      "Maximun Temperature: 26.02000000000004 °C\n",
      "Humidity: 36\n"
     ]
    }
   ],
   "source": [
    "import requests\n",
    "\n",
    "# API key for OpenWeatherMap\n",
    "api_key = '0906f9747b494a0613cd04d59bf2dd62'\n",
    "\n",
    "# Prompt user to input the city name\n",
    "city = input(\"Enter the city name:\")\n",
    "\n",
    "# Construct URLs for current weather and forecast\n",
    "url_weather = f'https://api.openweathermap.org/data/2.5/weather?q={city}&appid={api_key}'\n",
    "url_forecast = f'https://api.openweathermap.org/data/2.5/forecast?q={city}&appid={api_key}'\n",
    "\n",
    "# Get the response from the weather API\n",
    "response_weather = requests.get(url_weather)\n",
    "response_forecast = requests.get(url_forecast)\n",
    "\n",
    "# Parse the JSON response into Python dictionaries\n",
    "data_weather = response_weather.json()\n",
    "data_forecast = response_forecast.json()\n",
    "\n",
    "# Display welcome message\n",
    "print(\"Welcome to the Weather App\")\n",
    "\n",
    "# Display current weather information\n",
    "if response_weather.status_code == 200:\n",
    "    # Convert temperature to Celsius\n",
    "    temperature_celsius = round(data_weather[\"main\"][\"temp\"] - 273.15,2)\n",
    "    temp_min_celsius = round(data_weather[\"main\"][\"temp_min\"] - 273.15,2)\n",
    "    temp_max_celsius = round(data_weather[\"main\"][\"temp_max\"] - 273.15,2)\n",
    "\n",
    "    # Print weather information\n",
    "    print(\"Temperature:\", temperature_celsius, \"°C\") \n",
    "    print(\"Description:\", data_weather[\"weather\"][0][\"description\"])\n",
    "    print(\"Minimun Temperature:\", temp_min_celsius, \"°C\")\n",
    "    print(\"Maximun Temperature:\", temp_max_celsius, \"°C\")\n",
    "    print(\"Humidity:\", data_weather[\"main\"][\"humidity\"])\n",
    "else:\n",
    "    print(\"Failed to fetch the weather data with status code:\", response_weather.status_code)\n",
    "\n",
    "# Prompt user for forecast display\n",
    "user_input = input(\"Do you want to see the weather Forecast for the coming days?\")\n",
    "\n",
    "# Display forecast information\n",
    "if user_input.lower() == 'yes':\n",
    "    if response_forecast.status_code == 200:\n",
    "        for forecast in data_forecast[\"list\"]:\n",
    "            # Convert temperature to Celsius\n",
    "            temperature_celsius = round(forecast[\"main\"][\"temp\"] - 273.15)\n",
    "            temp_min_celsius = round(forecast[\"main\"][\"temp_min\"] - 273.15)\n",
    "            temp_max_celsius = round(forecast[\"main\"][\"temp_max\"] - 273.15\n",
    "\n",
    "            # Print forecast information\n",
    "            print(\"Date:\", forecast[\"dt_txt\"])\n",
    "            print(\"Temperature:\", temperature_celsius, \"°C\")\n",
    "            print(\"Description:\", forecast[\"weather\"][0][\"description\"])\n",
    "            print(\"Minimun Temperature:\", temp_min_celsius, \"°C\")\n",
    "            print(\"Maximun Temperature:\", temp_max_celsius, \"°C\")\n",
    "            print(\"Humidity:\", forecast[\"main\"][\"humidity\"])\n",
    "            print(\"-\" * 50)  # Separator for better readability\n",
    "    else: \n",
    "        print(\"Failed to fetch the weather data with status code:\", response_forecast.status_code)\n",
    "else:\n",
    "    print(\"Thank you for using the Weather App\")\n"
   ]
  },
  {
   "cell_type": "code",
   "execution_count": null,
   "id": "7c700d0f-0f30-491f-a407-6015381ba5db",
   "metadata": {},
   "outputs": [],
   "source": []
  }
 ],
 "metadata": {
  "kernelspec": {
   "display_name": "Python 3 (ipykernel)",
   "language": "python",
   "name": "python3"
  },
  "language_info": {
   "codemirror_mode": {
    "name": "ipython",
    "version": 3
   },
   "file_extension": ".py",
   "mimetype": "text/x-python",
   "name": "python",
   "nbconvert_exporter": "python",
   "pygments_lexer": "ipython3",
   "version": "3.12.0"
  }
 },
 "nbformat": 4,
 "nbformat_minor": 5
}
