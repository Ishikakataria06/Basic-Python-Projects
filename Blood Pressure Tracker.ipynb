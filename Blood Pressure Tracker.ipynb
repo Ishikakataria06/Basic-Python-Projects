{
 "cells": [
  {
   "cell_type": "code",
   "execution_count": 1,
   "id": "dcae1fc3-f249-4240-8c90-54fe5d0818e8",
   "metadata": {},
   "outputs": [],
   "source": [
    "#- Gradio create interactive web interfaces without needing to write complex code\n",
    "import gradio as gr  "
   ]
  },
  {
   "cell_type": "code",
   "execution_count": 2,
   "id": "02cb7fbd-2f8c-4ccd-9c35-d081bcc3cd6c",
   "metadata": {},
   "outputs": [],
   "source": [
    "# Define a function bp\n",
    "def bp(systolic,diastolic):\n",
    "    if ((systolic < 80) and (diastolic < 60)):\n",
    "        return \"Low Blood Pressure(Hypotension)\"\n",
    "    elif ((80 <= systolic <= 120) and (60 <= diastolic <= 80)):\n",
    "        return \"Normal\"\n",
    "    elif ((120 <= systolic <= 139) and (80 <= diastolic <= 89)):\n",
    "        return \"Prehypertension\"\n",
    "    elif ((140 <= systolic <= 159) and (90 <= diastolic <= 99)):\n",
    "        return \"High Blood Pressure(Hypertension Stage 1)\"\n",
    "    else:\n",
    "        return \"High Blood Pressure(Hypertension Stage 2 : Seek Medical Help!)\""
   ]
  },
  {
   "cell_type": "code",
   "execution_count": 3,
   "id": "5ca8ca85-b10c-41c1-ae88-2a231347e464",
   "metadata": {},
   "outputs": [],
   "source": [
    "interface = gr.Interface(fn=bp, inputs=[\"number\",\"number\"], \n",
    "                         outputs=[\"text\"], title=\"Analysis Of Blood Pressure\")"
   ]
  },
  {
   "cell_type": "code",
   "execution_count": 4,
   "id": "78e2de0f-bf51-43c1-9981-f08a031f7aeb",
   "metadata": {},
   "outputs": [
    {
     "name": "stdout",
     "output_type": "stream",
     "text": [
      "Running on local URL:  http://127.0.0.1:7860\n",
      "\n",
      "To create a public link, set `share=True` in `launch()`.\n"
     ]
    },
    {
     "data": {
      "text/html": [
       "<div><iframe src=\"http://127.0.0.1:7860/\" width=\"100%\" height=\"500\" allow=\"autoplay; camera; microphone; clipboard-read; clipboard-write;\" frameborder=\"0\" allowfullscreen></iframe></div>"
      ],
      "text/plain": [
       "<IPython.core.display.HTML object>"
      ]
     },
     "metadata": {},
     "output_type": "display_data"
    },
    {
     "data": {
      "text/plain": []
     },
     "execution_count": 4,
     "metadata": {},
     "output_type": "execute_result"
    }
   ],
   "source": [
    "interface.launch()"
   ]
  }
 ],
 "metadata": {
  "kernelspec": {
   "display_name": "Python 3 (ipykernel)",
   "language": "python",
   "name": "python3"
  },
  "language_info": {
   "codemirror_mode": {
    "name": "ipython",
    "version": 3
   },
   "file_extension": ".py",
   "mimetype": "text/x-python",
   "name": "python",
   "nbconvert_exporter": "python",
   "pygments_lexer": "ipython3",
   "version": "3.12.0"
  }
 },
 "nbformat": 4,
 "nbformat_minor": 5
}
